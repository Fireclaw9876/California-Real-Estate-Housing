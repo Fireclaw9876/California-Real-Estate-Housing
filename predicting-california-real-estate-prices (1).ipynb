{
 "cells": [
  {
   "cell_type": "code",
   "execution_count": 1,
   "id": "f4a09eed",
   "metadata": {
    "_cell_guid": "b1076dfc-b9ad-4769-8c92-a6c4dae69d19",
    "_uuid": "8f2839f25d086af736a60e9eeb907d3b93b6e0e5",
    "execution": {
     "iopub.execute_input": "2023-08-13T10:57:33.733643Z",
     "iopub.status.busy": "2023-08-13T10:57:33.733284Z",
     "iopub.status.idle": "2023-08-13T10:57:35.147831Z",
     "shell.execute_reply": "2023-08-13T10:57:35.147055Z"
    },
    "papermill": {
     "duration": 1.427744,
     "end_time": "2023-08-13T10:57:35.150196",
     "exception": false,
     "start_time": "2023-08-13T10:57:33.722452",
     "status": "completed"
    },
    "tags": []
   },
   "outputs": [
    {
     "name": "stderr",
     "output_type": "stream",
     "text": [
      "/opt/conda/lib/python3.10/site-packages/scipy/__init__.py:146: UserWarning: A NumPy version >=1.16.5 and <1.23.0 is required for this version of SciPy (detected version 1.23.5\n",
      "  warnings.warn(f\"A NumPy version >={np_minversion} and <{np_maxversion}\"\n"
     ]
    },
    {
     "name": "stdout",
     "output_type": "stream",
     "text": [
      "/kaggle/input/house-price/1553768847-housing.csv\n"
     ]
    }
   ],
   "source": [
    "# This Python 3 environment comes with many helpful analytics libraries installed\n",
    "# It is defined by the kaggle/python Docker image: https://github.com/kaggle/docker-python\n",
    "# For example, here's several helpful packages to load\n",
    "\n",
    "import numpy as np # linear algebra\n",
    "import pandas as pd # data processing, CSV file I/O (e.g. pd.read_csv)\n",
    "import seaborn as sns\n",
    "import matplotlib.pyplot as plt\n",
    "import scipy.stats as stats\n",
    "\n",
    "# Input data files are available in the read-only \"../input/\" directory\n",
    "# For example, running this (by clicking run or pressing Shift+Enter) will list all files under the input directory\n",
    "\n",
    "import os\n",
    "for dirname, _, filenames in os.walk('/kaggle/input'):\n",
    "    for filename in filenames:\n",
    "        print(os.path.join(dirname, filename))\n",
    "\n",
    "# You can write up to 20GB to the current directory (/kaggle/working/) that gets preserved as output when you create a version using \"Save & Run All\" \n",
    "# You can also write temporary files to /kaggle/temp/, but they won't be saved outside of the current session"
   ]
  },
  {
   "cell_type": "code",
   "execution_count": 2,
   "id": "ad7068ba",
   "metadata": {
    "execution": {
     "iopub.execute_input": "2023-08-13T10:57:35.170228Z",
     "iopub.status.busy": "2023-08-13T10:57:35.169455Z",
     "iopub.status.idle": "2023-08-13T10:57:35.174301Z",
     "shell.execute_reply": "2023-08-13T10:57:35.173498Z"
    },
    "papermill": {
     "duration": 0.017274,
     "end_time": "2023-08-13T10:57:35.176535",
     "exception": false,
     "start_time": "2023-08-13T10:57:35.159261",
     "status": "completed"
    },
    "tags": []
   },
   "outputs": [],
   "source": [
    "# Import Necessary Libraries\n",
    "# import tensorflow_decision_forests as tfdf\n",
    "# import os\n",
    "# import tensorflow as tf\n",
    "# import math"
   ]
  },
  {
   "cell_type": "code",
   "execution_count": 3,
   "id": "204acfd5",
   "metadata": {
    "execution": {
     "iopub.execute_input": "2023-08-13T10:57:35.196064Z",
     "iopub.status.busy": "2023-08-13T10:57:35.195232Z",
     "iopub.status.idle": "2023-08-13T10:57:35.284193Z",
     "shell.execute_reply": "2023-08-13T10:57:35.283054Z"
    },
    "papermill": {
     "duration": 0.101562,
     "end_time": "2023-08-13T10:57:35.286938",
     "exception": false,
     "start_time": "2023-08-13T10:57:35.185376",
     "status": "completed"
    },
    "tags": []
   },
   "outputs": [
    {
     "data": {
      "text/html": [
       "<div>\n",
       "<style scoped>\n",
       "    .dataframe tbody tr th:only-of-type {\n",
       "        vertical-align: middle;\n",
       "    }\n",
       "\n",
       "    .dataframe tbody tr th {\n",
       "        vertical-align: top;\n",
       "    }\n",
       "\n",
       "    .dataframe thead th {\n",
       "        text-align: right;\n",
       "    }\n",
       "</style>\n",
       "<table border=\"1\" class=\"dataframe\">\n",
       "  <thead>\n",
       "    <tr style=\"text-align: right;\">\n",
       "      <th></th>\n",
       "      <th>longitude</th>\n",
       "      <th>latitude</th>\n",
       "      <th>housing_median_age</th>\n",
       "      <th>total_rooms</th>\n",
       "      <th>total_bedrooms</th>\n",
       "      <th>population</th>\n",
       "      <th>households</th>\n",
       "      <th>median_income</th>\n",
       "      <th>ocean_proximity</th>\n",
       "      <th>median_house_value</th>\n",
       "    </tr>\n",
       "  </thead>\n",
       "  <tbody>\n",
       "    <tr>\n",
       "      <th>0</th>\n",
       "      <td>-122.23</td>\n",
       "      <td>37.88</td>\n",
       "      <td>41</td>\n",
       "      <td>880</td>\n",
       "      <td>129.0</td>\n",
       "      <td>322</td>\n",
       "      <td>126</td>\n",
       "      <td>8.3252</td>\n",
       "      <td>NEAR BAY</td>\n",
       "      <td>452600</td>\n",
       "    </tr>\n",
       "    <tr>\n",
       "      <th>1</th>\n",
       "      <td>-122.22</td>\n",
       "      <td>37.86</td>\n",
       "      <td>21</td>\n",
       "      <td>7099</td>\n",
       "      <td>1106.0</td>\n",
       "      <td>2401</td>\n",
       "      <td>1138</td>\n",
       "      <td>8.3014</td>\n",
       "      <td>NEAR BAY</td>\n",
       "      <td>358500</td>\n",
       "    </tr>\n",
       "    <tr>\n",
       "      <th>2</th>\n",
       "      <td>-122.24</td>\n",
       "      <td>37.85</td>\n",
       "      <td>52</td>\n",
       "      <td>1467</td>\n",
       "      <td>190.0</td>\n",
       "      <td>496</td>\n",
       "      <td>177</td>\n",
       "      <td>7.2574</td>\n",
       "      <td>NEAR BAY</td>\n",
       "      <td>352100</td>\n",
       "    </tr>\n",
       "    <tr>\n",
       "      <th>3</th>\n",
       "      <td>-122.25</td>\n",
       "      <td>37.85</td>\n",
       "      <td>52</td>\n",
       "      <td>1274</td>\n",
       "      <td>235.0</td>\n",
       "      <td>558</td>\n",
       "      <td>219</td>\n",
       "      <td>5.6431</td>\n",
       "      <td>NEAR BAY</td>\n",
       "      <td>341300</td>\n",
       "    </tr>\n",
       "    <tr>\n",
       "      <th>4</th>\n",
       "      <td>-122.25</td>\n",
       "      <td>37.85</td>\n",
       "      <td>52</td>\n",
       "      <td>1627</td>\n",
       "      <td>280.0</td>\n",
       "      <td>565</td>\n",
       "      <td>259</td>\n",
       "      <td>3.8462</td>\n",
       "      <td>NEAR BAY</td>\n",
       "      <td>342200</td>\n",
       "    </tr>\n",
       "  </tbody>\n",
       "</table>\n",
       "</div>"
      ],
      "text/plain": [
       "   longitude  latitude  housing_median_age  total_rooms  total_bedrooms  \\\n",
       "0    -122.23     37.88                  41          880           129.0   \n",
       "1    -122.22     37.86                  21         7099          1106.0   \n",
       "2    -122.24     37.85                  52         1467           190.0   \n",
       "3    -122.25     37.85                  52         1274           235.0   \n",
       "4    -122.25     37.85                  52         1627           280.0   \n",
       "\n",
       "   population  households  median_income ocean_proximity  median_house_value  \n",
       "0         322         126         8.3252        NEAR BAY              452600  \n",
       "1        2401        1138         8.3014        NEAR BAY              358500  \n",
       "2         496         177         7.2574        NEAR BAY              352100  \n",
       "3         558         219         5.6431        NEAR BAY              341300  \n",
       "4         565         259         3.8462        NEAR BAY              342200  "
      ]
     },
     "execution_count": 3,
     "metadata": {},
     "output_type": "execute_result"
    }
   ],
   "source": [
    "# Load the Data\n",
    "data_path  = '/kaggle/input/house-price/1553768847-housing.csv'\n",
    "data = pd.read_csv(data_path)\n",
    "\n",
    "# Print out the First 5 Data Points\n",
    "data.head()"
   ]
  },
  {
   "cell_type": "code",
   "execution_count": 4,
   "id": "7d0ab850",
   "metadata": {
    "execution": {
     "iopub.execute_input": "2023-08-13T10:57:35.306823Z",
     "iopub.status.busy": "2023-08-13T10:57:35.306413Z",
     "iopub.status.idle": "2023-08-13T10:57:35.341590Z",
     "shell.execute_reply": "2023-08-13T10:57:35.339904Z"
    },
    "papermill": {
     "duration": 0.047869,
     "end_time": "2023-08-13T10:57:35.344104",
     "exception": false,
     "start_time": "2023-08-13T10:57:35.296235",
     "status": "completed"
    },
    "tags": []
   },
   "outputs": [
    {
     "name": "stdout",
     "output_type": "stream",
     "text": [
      "<class 'pandas.core.frame.DataFrame'>\n",
      "RangeIndex: 20640 entries, 0 to 20639\n",
      "Data columns (total 10 columns):\n",
      " #   Column              Non-Null Count  Dtype  \n",
      "---  ------              --------------  -----  \n",
      " 0   longitude           20640 non-null  float64\n",
      " 1   latitude            20640 non-null  float64\n",
      " 2   housing_median_age  20640 non-null  int64  \n",
      " 3   total_rooms         20640 non-null  int64  \n",
      " 4   total_bedrooms      20433 non-null  float64\n",
      " 5   population          20640 non-null  int64  \n",
      " 6   households          20640 non-null  int64  \n",
      " 7   median_income       20640 non-null  float64\n",
      " 8   ocean_proximity     20640 non-null  object \n",
      " 9   median_house_value  20640 non-null  int64  \n",
      "dtypes: float64(4), int64(5), object(1)\n",
      "memory usage: 1.6+ MB\n",
      "Info:  None\n",
      "\n",
      "Shape:  (20640, 10)\n",
      "\n",
      "Size:  206400\n"
     ]
    }
   ],
   "source": [
    "# Create a copy of data set \n",
    "df = data.copy()\n",
    "# Quick look at information\n",
    "print('Info: ',df.info())\n",
    "\n",
    "# Print Empty Line\n",
    "print()\n",
    "\n",
    "# Shape of Data\n",
    "print('Shape: ',df.shape)\n",
    "\n",
    "# Print Empty Line\n",
    "print()\n",
    "\n",
    "# Size of Data\n",
    "print('Size: ', df.size)"
   ]
  },
  {
   "cell_type": "code",
   "execution_count": 5,
   "id": "79312542",
   "metadata": {
    "execution": {
     "iopub.execute_input": "2023-08-13T10:57:35.364757Z",
     "iopub.status.busy": "2023-08-13T10:57:35.364386Z",
     "iopub.status.idle": "2023-08-13T10:57:35.380762Z",
     "shell.execute_reply": "2023-08-13T10:57:35.379701Z"
    },
    "papermill": {
     "duration": 0.029474,
     "end_time": "2023-08-13T10:57:35.383041",
     "exception": false,
     "start_time": "2023-08-13T10:57:35.353567",
     "status": "completed"
    },
    "tags": []
   },
   "outputs": [
    {
     "data": {
      "text/plain": [
       "longitude               0\n",
       "latitude                0\n",
       "housing_median_age      0\n",
       "total_rooms             0\n",
       "total_bedrooms        207\n",
       "population              0\n",
       "households              0\n",
       "median_income           0\n",
       "ocean_proximity         0\n",
       "median_house_value      0\n",
       "dtype: int64"
      ]
     },
     "execution_count": 5,
     "metadata": {},
     "output_type": "execute_result"
    }
   ],
   "source": [
    "# Finds Amount of Null Values\n",
    "df.isna().sum()"
   ]
  },
  {
   "cell_type": "code",
   "execution_count": 6,
   "id": "ea3b7486",
   "metadata": {
    "execution": {
     "iopub.execute_input": "2023-08-13T10:57:35.404805Z",
     "iopub.status.busy": "2023-08-13T10:57:35.404174Z",
     "iopub.status.idle": "2023-08-13T10:57:35.409594Z",
     "shell.execute_reply": "2023-08-13T10:57:35.408862Z"
    },
    "papermill": {
     "duration": 0.017863,
     "end_time": "2023-08-13T10:57:35.411650",
     "exception": false,
     "start_time": "2023-08-13T10:57:35.393787",
     "status": "completed"
    },
    "tags": []
   },
   "outputs": [],
   "source": [
    "# Repopulate Null Values with Mean\n",
    "df[\"total_bedrooms\"] = df[\"total_bedrooms\"].fillna(df['total_bedrooms'].mean())"
   ]
  },
  {
   "cell_type": "code",
   "execution_count": 7,
   "id": "1fe3bf54",
   "metadata": {
    "execution": {
     "iopub.execute_input": "2023-08-13T10:57:35.432909Z",
     "iopub.status.busy": "2023-08-13T10:57:35.432274Z",
     "iopub.status.idle": "2023-08-13T10:57:35.448587Z",
     "shell.execute_reply": "2023-08-13T10:57:35.447536Z"
    },
    "papermill": {
     "duration": 0.029514,
     "end_time": "2023-08-13T10:57:35.450781",
     "exception": false,
     "start_time": "2023-08-13T10:57:35.421267",
     "status": "completed"
    },
    "tags": []
   },
   "outputs": [
    {
     "data": {
      "text/plain": [
       "longitude             0\n",
       "latitude              0\n",
       "housing_median_age    0\n",
       "total_rooms           0\n",
       "total_bedrooms        0\n",
       "population            0\n",
       "households            0\n",
       "median_income         0\n",
       "ocean_proximity       0\n",
       "median_house_value    0\n",
       "dtype: int64"
      ]
     },
     "execution_count": 7,
     "metadata": {},
     "output_type": "execute_result"
    }
   ],
   "source": [
    "# Check to Make Sure Populated\n",
    "df.isna().sum()"
   ]
  },
  {
   "cell_type": "code",
   "execution_count": 8,
   "id": "f69a88cf",
   "metadata": {
    "execution": {
     "iopub.execute_input": "2023-08-13T10:57:35.472738Z",
     "iopub.status.busy": "2023-08-13T10:57:35.472071Z",
     "iopub.status.idle": "2023-08-13T10:57:35.481017Z",
     "shell.execute_reply": "2023-08-13T10:57:35.480043Z"
    },
    "papermill": {
     "duration": 0.022327,
     "end_time": "2023-08-13T10:57:35.483109",
     "exception": false,
     "start_time": "2023-08-13T10:57:35.460782",
     "status": "completed"
    },
    "tags": []
   },
   "outputs": [
    {
     "data": {
      "text/plain": [
       "array(['NEAR BAY', '<1H OCEAN', 'INLAND', 'NEAR OCEAN', 'ISLAND'],\n",
       "      dtype=object)"
      ]
     },
     "execution_count": 8,
     "metadata": {},
     "output_type": "execute_result"
    }
   ],
   "source": [
    "# Evaluate Ocean Proximity Object\n",
    "df['ocean_proximity'].unique()"
   ]
  },
  {
   "cell_type": "code",
   "execution_count": 9,
   "id": "e1a1fc10",
   "metadata": {
    "execution": {
     "iopub.execute_input": "2023-08-13T10:57:35.505434Z",
     "iopub.status.busy": "2023-08-13T10:57:35.504458Z",
     "iopub.status.idle": "2023-08-13T10:57:35.514706Z",
     "shell.execute_reply": "2023-08-13T10:57:35.513585Z"
    },
    "papermill": {
     "duration": 0.024176,
     "end_time": "2023-08-13T10:57:35.517425",
     "exception": false,
     "start_time": "2023-08-13T10:57:35.493249",
     "status": "completed"
    },
    "tags": []
   },
   "outputs": [],
   "source": [
    "# Convert Ocean Proximity to Numbers\n",
    "ocean_proximity_mapping = {\n",
    "    'NEAR BAY': 1,\n",
    "    '<1H OCEAN': 2,\n",
    "    'INLAND': 3,\n",
    "    'NEAR OCEAN': 4,\n",
    "    'ISLAND': 5\n",
    "}\n",
    "\n",
    "# Implement in data \n",
    "df['ocean_proximity'] = df['ocean_proximity'].map(ocean_proximity_mapping)"
   ]
  },
  {
   "cell_type": "code",
   "execution_count": 10,
   "id": "4bd0f46e",
   "metadata": {
    "execution": {
     "iopub.execute_input": "2023-08-13T10:57:35.539483Z",
     "iopub.status.busy": "2023-08-13T10:57:35.539017Z",
     "iopub.status.idle": "2023-08-13T10:57:35.564278Z",
     "shell.execute_reply": "2023-08-13T10:57:35.563202Z"
    },
    "papermill": {
     "duration": 0.038911,
     "end_time": "2023-08-13T10:57:35.566513",
     "exception": false,
     "start_time": "2023-08-13T10:57:35.527602",
     "status": "completed"
    },
    "tags": []
   },
   "outputs": [
    {
     "data": {
      "text/html": [
       "<div>\n",
       "<style scoped>\n",
       "    .dataframe tbody tr th:only-of-type {\n",
       "        vertical-align: middle;\n",
       "    }\n",
       "\n",
       "    .dataframe tbody tr th {\n",
       "        vertical-align: top;\n",
       "    }\n",
       "\n",
       "    .dataframe thead th {\n",
       "        text-align: right;\n",
       "    }\n",
       "</style>\n",
       "<table border=\"1\" class=\"dataframe\">\n",
       "  <thead>\n",
       "    <tr style=\"text-align: right;\">\n",
       "      <th></th>\n",
       "      <th>longitude</th>\n",
       "      <th>latitude</th>\n",
       "      <th>housing_median_age</th>\n",
       "      <th>total_rooms</th>\n",
       "      <th>total_bedrooms</th>\n",
       "      <th>population</th>\n",
       "      <th>households</th>\n",
       "      <th>median_income</th>\n",
       "      <th>ocean_proximity</th>\n",
       "      <th>median_house_value</th>\n",
       "    </tr>\n",
       "  </thead>\n",
       "  <tbody>\n",
       "    <tr>\n",
       "      <th>0</th>\n",
       "      <td>-122.23</td>\n",
       "      <td>37.88</td>\n",
       "      <td>41</td>\n",
       "      <td>880</td>\n",
       "      <td>129.0</td>\n",
       "      <td>322</td>\n",
       "      <td>126</td>\n",
       "      <td>8.3252</td>\n",
       "      <td>1</td>\n",
       "      <td>452600</td>\n",
       "    </tr>\n",
       "    <tr>\n",
       "      <th>1</th>\n",
       "      <td>-122.22</td>\n",
       "      <td>37.86</td>\n",
       "      <td>21</td>\n",
       "      <td>7099</td>\n",
       "      <td>1106.0</td>\n",
       "      <td>2401</td>\n",
       "      <td>1138</td>\n",
       "      <td>8.3014</td>\n",
       "      <td>1</td>\n",
       "      <td>358500</td>\n",
       "    </tr>\n",
       "    <tr>\n",
       "      <th>2</th>\n",
       "      <td>-122.24</td>\n",
       "      <td>37.85</td>\n",
       "      <td>52</td>\n",
       "      <td>1467</td>\n",
       "      <td>190.0</td>\n",
       "      <td>496</td>\n",
       "      <td>177</td>\n",
       "      <td>7.2574</td>\n",
       "      <td>1</td>\n",
       "      <td>352100</td>\n",
       "    </tr>\n",
       "    <tr>\n",
       "      <th>3</th>\n",
       "      <td>-122.25</td>\n",
       "      <td>37.85</td>\n",
       "      <td>52</td>\n",
       "      <td>1274</td>\n",
       "      <td>235.0</td>\n",
       "      <td>558</td>\n",
       "      <td>219</td>\n",
       "      <td>5.6431</td>\n",
       "      <td>1</td>\n",
       "      <td>341300</td>\n",
       "    </tr>\n",
       "    <tr>\n",
       "      <th>4</th>\n",
       "      <td>-122.25</td>\n",
       "      <td>37.85</td>\n",
       "      <td>52</td>\n",
       "      <td>1627</td>\n",
       "      <td>280.0</td>\n",
       "      <td>565</td>\n",
       "      <td>259</td>\n",
       "      <td>3.8462</td>\n",
       "      <td>1</td>\n",
       "      <td>342200</td>\n",
       "    </tr>\n",
       "    <tr>\n",
       "      <th>...</th>\n",
       "      <td>...</td>\n",
       "      <td>...</td>\n",
       "      <td>...</td>\n",
       "      <td>...</td>\n",
       "      <td>...</td>\n",
       "      <td>...</td>\n",
       "      <td>...</td>\n",
       "      <td>...</td>\n",
       "      <td>...</td>\n",
       "      <td>...</td>\n",
       "    </tr>\n",
       "    <tr>\n",
       "      <th>20635</th>\n",
       "      <td>-121.09</td>\n",
       "      <td>39.48</td>\n",
       "      <td>25</td>\n",
       "      <td>1665</td>\n",
       "      <td>374.0</td>\n",
       "      <td>845</td>\n",
       "      <td>330</td>\n",
       "      <td>1.5603</td>\n",
       "      <td>3</td>\n",
       "      <td>78100</td>\n",
       "    </tr>\n",
       "    <tr>\n",
       "      <th>20636</th>\n",
       "      <td>-121.21</td>\n",
       "      <td>39.49</td>\n",
       "      <td>18</td>\n",
       "      <td>697</td>\n",
       "      <td>150.0</td>\n",
       "      <td>356</td>\n",
       "      <td>114</td>\n",
       "      <td>2.5568</td>\n",
       "      <td>3</td>\n",
       "      <td>77100</td>\n",
       "    </tr>\n",
       "    <tr>\n",
       "      <th>20637</th>\n",
       "      <td>-121.22</td>\n",
       "      <td>39.43</td>\n",
       "      <td>17</td>\n",
       "      <td>2254</td>\n",
       "      <td>485.0</td>\n",
       "      <td>1007</td>\n",
       "      <td>433</td>\n",
       "      <td>1.7000</td>\n",
       "      <td>3</td>\n",
       "      <td>92300</td>\n",
       "    </tr>\n",
       "    <tr>\n",
       "      <th>20638</th>\n",
       "      <td>-121.32</td>\n",
       "      <td>39.43</td>\n",
       "      <td>18</td>\n",
       "      <td>1860</td>\n",
       "      <td>409.0</td>\n",
       "      <td>741</td>\n",
       "      <td>349</td>\n",
       "      <td>1.8672</td>\n",
       "      <td>3</td>\n",
       "      <td>84700</td>\n",
       "    </tr>\n",
       "    <tr>\n",
       "      <th>20639</th>\n",
       "      <td>-121.24</td>\n",
       "      <td>39.37</td>\n",
       "      <td>16</td>\n",
       "      <td>2785</td>\n",
       "      <td>616.0</td>\n",
       "      <td>1387</td>\n",
       "      <td>530</td>\n",
       "      <td>2.3886</td>\n",
       "      <td>3</td>\n",
       "      <td>89400</td>\n",
       "    </tr>\n",
       "  </tbody>\n",
       "</table>\n",
       "<p>20640 rows × 10 columns</p>\n",
       "</div>"
      ],
      "text/plain": [
       "       longitude  latitude  housing_median_age  total_rooms  total_bedrooms  \\\n",
       "0        -122.23     37.88                  41          880           129.0   \n",
       "1        -122.22     37.86                  21         7099          1106.0   \n",
       "2        -122.24     37.85                  52         1467           190.0   \n",
       "3        -122.25     37.85                  52         1274           235.0   \n",
       "4        -122.25     37.85                  52         1627           280.0   \n",
       "...          ...       ...                 ...          ...             ...   \n",
       "20635    -121.09     39.48                  25         1665           374.0   \n",
       "20636    -121.21     39.49                  18          697           150.0   \n",
       "20637    -121.22     39.43                  17         2254           485.0   \n",
       "20638    -121.32     39.43                  18         1860           409.0   \n",
       "20639    -121.24     39.37                  16         2785           616.0   \n",
       "\n",
       "       population  households  median_income  ocean_proximity  \\\n",
       "0             322         126         8.3252                1   \n",
       "1            2401        1138         8.3014                1   \n",
       "2             496         177         7.2574                1   \n",
       "3             558         219         5.6431                1   \n",
       "4             565         259         3.8462                1   \n",
       "...           ...         ...            ...              ...   \n",
       "20635         845         330         1.5603                3   \n",
       "20636         356         114         2.5568                3   \n",
       "20637        1007         433         1.7000                3   \n",
       "20638         741         349         1.8672                3   \n",
       "20639        1387         530         2.3886                3   \n",
       "\n",
       "       median_house_value  \n",
       "0                  452600  \n",
       "1                  358500  \n",
       "2                  352100  \n",
       "3                  341300  \n",
       "4                  342200  \n",
       "...                   ...  \n",
       "20635               78100  \n",
       "20636               77100  \n",
       "20637               92300  \n",
       "20638               84700  \n",
       "20639               89400  \n",
       "\n",
       "[20640 rows x 10 columns]"
      ]
     },
     "execution_count": 10,
     "metadata": {},
     "output_type": "execute_result"
    }
   ],
   "source": [
    "df"
   ]
  },
  {
   "cell_type": "code",
   "execution_count": 11,
   "id": "6628c859",
   "metadata": {
    "execution": {
     "iopub.execute_input": "2023-08-13T10:57:35.590113Z",
     "iopub.status.busy": "2023-08-13T10:57:35.589758Z",
     "iopub.status.idle": "2023-08-13T10:57:36.002496Z",
     "shell.execute_reply": "2023-08-13T10:57:36.001287Z"
    },
    "papermill": {
     "duration": 0.427426,
     "end_time": "2023-08-13T10:57:36.005076",
     "exception": false,
     "start_time": "2023-08-13T10:57:35.577650",
     "status": "completed"
    },
    "tags": []
   },
   "outputs": [
    {
     "data": {
      "text/plain": [
       "<Axes: xlabel='housing_median_age', ylabel='Count'>"
      ]
     },
     "execution_count": 11,
     "metadata": {},
     "output_type": "execute_result"
    },
    {
     "data": {
      "image/png": "[encoded data removed]",
      "text/plain": [
       "<Figure size 640x480 with 1 Axes>"
      ]
     },
     "metadata": {},
     "output_type": "display_data"
    }
   ],
   "source": [
    "# Plot Histograms to Analyze Data\n",
    "sns.histplot(x=df['housing_median_age'])"
   ]
  },
  {
   "cell_type": "code",
   "execution_count": 12,
   "id": "52a3b7f7",
   "metadata": {
    "execution": {
     "iopub.execute_input": "2023-08-13T10:57:36.030547Z",
     "iopub.status.busy": "2023-08-13T10:57:36.029638Z",
     "iopub.status.idle": "2023-08-13T10:57:36.383488Z",
     "shell.execute_reply": "2023-08-13T10:57:36.382331Z"
    },
    "papermill": {
     "duration": 0.368767,
     "end_time": "2023-08-13T10:57:36.385741",
     "exception": false,
     "start_time": "2023-08-13T10:57:36.016974",
     "status": "completed"
    },
    "tags": []
   },
   "outputs": [
    {
     "data": {
      "text/plain": [
       "(array([  62.,   62.,  191.,  244.,  160.,  175.,  206.,  205.,  264.,\n",
       "         254.,  238.,  302.,  412.,  512.,  771.,  698.,  570.,  502.,\n",
       "         465.,  446.,  399.,  448.,  478.,  566.,  619.,  488.,  471.,\n",
       "         461.,  476.,  458.,  565.,  615.,  689.,  824.,  862.,  537.,\n",
       "         394.,  369.,  304.,  296.,  368.,  353.,  356.,  294.,  245.,\n",
       "         198.,  177.,  134.,  136., 1321.]),\n",
       " array([ 1.  ,  2.02,  3.04,  4.06,  5.08,  6.1 ,  7.12,  8.14,  9.16,\n",
       "        10.18, 11.2 , 12.22, 13.24, 14.26, 15.28, 16.3 , 17.32, 18.34,\n",
       "        19.36, 20.38, 21.4 , 22.42, 23.44, 24.46, 25.48, 26.5 , 27.52,\n",
       "        28.54, 29.56, 30.58, 31.6 , 32.62, 33.64, 34.66, 35.68, 36.7 ,\n",
       "        37.72, 38.74, 39.76, 40.78, 41.8 , 42.82, 43.84, 44.86, 45.88,\n",
       "        46.9 , 47.92, 48.94, 49.96, 50.98, 52.  ]),\n",
       " <BarContainer object of 50 artists>)"
      ]
     },
     "execution_count": 12,
     "metadata": {},
     "output_type": "execute_result"
    },
    {
     "data": {
      "image/png": "[encoded data removed]",
      "text/plain": [
       "<Figure size 640x480 with 1 Axes>"
      ]
     },
     "metadata": {},
     "output_type": "display_data"
    }
   ],
   "source": [
    "plt.hist(df['housing_median_age'], bins=50)"
   ]
  },
  {
   "cell_type": "code",
   "execution_count": 13,
   "id": "864abfb5",
   "metadata": {
    "execution": {
     "iopub.execute_input": "2023-08-13T10:57:36.411356Z",
     "iopub.status.busy": "2023-08-13T10:57:36.410974Z",
     "iopub.status.idle": "2023-08-13T10:57:36.416970Z",
     "shell.execute_reply": "2023-08-13T10:57:36.415902Z"
    },
    "papermill": {
     "duration": 0.022029,
     "end_time": "2023-08-13T10:57:36.419521",
     "exception": false,
     "start_time": "2023-08-13T10:57:36.397492",
     "status": "completed"
    },
    "tags": []
   },
   "outputs": [
    {
     "name": "stdout",
     "output_type": "stream",
     "text": [
      "['housing_median_age', 'total_rooms', 'total_bedrooms', 'population', 'households', 'median_income']\n"
     ]
    }
   ],
   "source": [
    "# Copy and Filter Column Names\n",
    "columns = df.columns.to_list()\n",
    "columns.remove('longitude')\n",
    "columns.remove('latitude')\n",
    "columns.remove('ocean_proximity')\n",
    "columns.remove('median_house_value')\n",
    "print(columns)"
   ]
  },
  {
   "cell_type": "code",
   "execution_count": 14,
   "id": "659067ac",
   "metadata": {
    "execution": {
     "iopub.execute_input": "2023-08-13T10:57:36.445783Z",
     "iopub.status.busy": "2023-08-13T10:57:36.444675Z",
     "iopub.status.idle": "2023-08-13T10:57:40.706379Z",
     "shell.execute_reply": "2023-08-13T10:57:40.705517Z"
    },
    "papermill": {
     "duration": 4.277255,
     "end_time": "2023-08-13T10:57:40.708553",
     "exception": false,
     "start_time": "2023-08-13T10:57:36.431298",
     "status": "completed"
    },
    "tags": []
   },
   "outputs": [
    {
     "data": {
      "image/png": "[encoded data removed]",
      "text/plain": [
       "<Figure size 640x480 with 1 Axes>"
      ]
     },
     "metadata": {},
     "output_type": "display_data"
    },
    {
     "data": {
      "image/png": "[encoded data removed]",
      "text/plain": [
       "<Figure size 640x480 with 1 Axes>"
      ]
     },
     "metadata": {},
     "output_type": "display_data"
    },
    {
     "data": {
      "image/png": "[encoded data removed]",
      "text/plain": [
       "<Figure size 640x480 with 1 Axes>"
      ]
     },
     "metadata": {},
     "output_type": "display_data"
    },
    {
     "data": {
      "image/png": "[encoded data removed]",
      "text/plain": [
       "<Figure size 640x480 with 1 Axes>"
      ]
     },
     "metadata": {},
     "output_type": "display_data"
    },
    {
     "data": {
      "image/png": "[encoded data removed]",
      "text/plain": [
       "<Figure size 640x480 with 1 Axes>"
      ]
     },
     "metadata": {},
     "output_type": "display_data"
    },
    {
     "data": {
      "image/png": "[encoded data removed]",
      "text/plain": [
       "<Figure size 640x480 with 1 Axes>"
      ]
     },
     "metadata": {},
     "output_type": "display_data"
    }
   ],
   "source": [
    "for i in columns:\n",
    "    sns.histplot(df[i])\n",
    "    plt.show()"
   ]
  },
  {
   "cell_type": "code",
   "execution_count": 15,
   "id": "15393342",
   "metadata": {
    "execution": {
     "iopub.execute_input": "2023-08-13T10:57:40.740241Z",
     "iopub.status.busy": "2023-08-13T10:57:40.739600Z",
     "iopub.status.idle": "2023-08-13T10:57:41.116355Z",
     "shell.execute_reply": "2023-08-13T10:57:41.115093Z"
    },
    "papermill": {
     "duration": 0.395754,
     "end_time": "2023-08-13T10:57:41.119317",
     "exception": false,
     "start_time": "2023-08-13T10:57:40.723563",
     "status": "completed"
    },
    "tags": []
   },
   "outputs": [],
   "source": [
    "# Import Necessary Linear Regression Libraries\n",
    "from sklearn.linear_model import LinearRegression\n",
    "from sklearn.model_selection import train_test_split"
   ]
  },
  {
   "cell_type": "code",
   "execution_count": 16,
   "id": "274bdb93",
   "metadata": {
    "execution": {
     "iopub.execute_input": "2023-08-13T10:57:41.150247Z",
     "iopub.status.busy": "2023-08-13T10:57:41.149589Z",
     "iopub.status.idle": "2023-08-13T10:57:41.154652Z",
     "shell.execute_reply": "2023-08-13T10:57:41.153901Z"
    },
    "papermill": {
     "duration": 0.02302,
     "end_time": "2023-08-13T10:57:41.156858",
     "exception": false,
     "start_time": "2023-08-13T10:57:41.133838",
     "status": "completed"
    },
    "tags": []
   },
   "outputs": [],
   "source": [
    "# Goal is to Determine House Value From Data\n",
    "x = df['median_house_value']\n",
    "y = df['total_rooms']"
   ]
  },
  {
   "cell_type": "code",
   "execution_count": 17,
   "id": "bbbaae70",
   "metadata": {
    "execution": {
     "iopub.execute_input": "2023-08-13T10:57:41.189193Z",
     "iopub.status.busy": "2023-08-13T10:57:41.188529Z",
     "iopub.status.idle": "2023-08-13T10:57:41.644727Z",
     "shell.execute_reply": "2023-08-13T10:57:41.643581Z"
    },
    "papermill": {
     "duration": 0.47524,
     "end_time": "2023-08-13T10:57:41.647055",
     "exception": false,
     "start_time": "2023-08-13T10:57:41.171815",
     "status": "completed"
    },
    "tags": []
   },
   "outputs": [
    {
     "data": {
      "text/plain": [
       "Text(0, 0.5, 'Total Rooms')"
      ]
     },
     "execution_count": 17,
     "metadata": {},
     "output_type": "execute_result"
    },
    {
     "data": {
      "image/png": "[encoded data removed]",
      "text/plain": [
       "<Figure size 640x480 with 1 Axes>"
      ]
     },
     "metadata": {},
     "output_type": "display_data"
    }
   ],
   "source": [
    "# Plot How The Total Room affect the House Value\n",
    "plt.scatter(x, y)\n",
    "plt.title(\"How Amount of Rooms Affects House Value\")\n",
    "plt.xlabel('Median House Value')\n",
    "plt.ylabel('Total Rooms')"
   ]
  },
  {
   "cell_type": "code",
   "execution_count": 18,
   "id": "54612a57",
   "metadata": {
    "execution": {
     "iopub.execute_input": "2023-08-13T10:57:41.680229Z",
     "iopub.status.busy": "2023-08-13T10:57:41.679806Z",
     "iopub.status.idle": "2023-08-13T10:57:41.688992Z",
     "shell.execute_reply": "2023-08-13T10:57:41.687861Z"
    },
    "papermill": {
     "duration": 0.028803,
     "end_time": "2023-08-13T10:57:41.691428",
     "exception": false,
     "start_time": "2023-08-13T10:57:41.662625",
     "status": "completed"
    },
    "tags": []
   },
   "outputs": [
    {
     "name": "stdout",
     "output_type": "stream",
     "text": [
      "1394     166900\n",
      "5187      91300\n",
      "2536      70500\n",
      "3387     293300\n",
      "16271     65900\n",
      "          ...  \n",
      "11517    461600\n",
      "4914     103800\n",
      "8897     353600\n",
      "10014    185900\n",
      "4597     162500\n",
      "Name: median_house_value, Length: 16512, dtype: int64\n"
     ]
    }
   ],
   "source": [
    "# Split Train and Test Data by 75-25\n",
    "x_train, x_test, y_train, y_test =  train_test_split(x,y,test_size=.2)\n",
    "\n",
    "print(x_train)"
   ]
  },
  {
   "cell_type": "code",
   "execution_count": 19,
   "id": "7e00aaa3",
   "metadata": {
    "execution": {
     "iopub.execute_input": "2023-08-13T10:57:41.725601Z",
     "iopub.status.busy": "2023-08-13T10:57:41.725211Z",
     "iopub.status.idle": "2023-08-13T10:57:41.731235Z",
     "shell.execute_reply": "2023-08-13T10:57:41.730191Z"
    },
    "papermill": {
     "duration": 0.024944,
     "end_time": "2023-08-13T10:57:41.733551",
     "exception": false,
     "start_time": "2023-08-13T10:57:41.708607",
     "status": "completed"
    },
    "tags": []
   },
   "outputs": [
    {
     "name": "stdout",
     "output_type": "stream",
     "text": [
      "(16512,)\n",
      "(16512,)\n",
      "(4128,)\n",
      "(4128,)\n"
     ]
    }
   ],
   "source": [
    "print(x_train.shape)\n",
    "print(y_train.shape)\n",
    "print(x_test.shape)\n",
    "print(y_test.shape)"
   ]
  },
  {
   "cell_type": "code",
   "execution_count": 20,
   "id": "f16e90b3",
   "metadata": {
    "execution": {
     "iopub.execute_input": "2023-08-13T10:57:41.768290Z",
     "iopub.status.busy": "2023-08-13T10:57:41.767687Z",
     "iopub.status.idle": "2023-08-13T10:57:41.773095Z",
     "shell.execute_reply": "2023-08-13T10:57:41.772172Z"
    },
    "papermill": {
     "duration": 0.025372,
     "end_time": "2023-08-13T10:57:41.775318",
     "exception": false,
     "start_time": "2023-08-13T10:57:41.749946",
     "status": "completed"
    },
    "tags": []
   },
   "outputs": [
    {
     "name": "stdout",
     "output_type": "stream",
     "text": [
      "(16512, 1)\n"
     ]
    }
   ],
   "source": [
    "# Convert the Series to a NumPy array \n",
    "x_train_array = x_train.to_numpy()\n",
    "\n",
    "# Reshape Array\n",
    "x_train_reshaped = x_train_array.reshape(-1, 1)\n",
    "\n",
    "print(x_train_reshaped.shape)"
   ]
  },
  {
   "cell_type": "code",
   "execution_count": 21,
   "id": "2dcde365",
   "metadata": {
    "execution": {
     "iopub.execute_input": "2023-08-13T10:57:41.809668Z",
     "iopub.status.busy": "2023-08-13T10:57:41.808486Z",
     "iopub.status.idle": "2023-08-13T10:57:41.816517Z",
     "shell.execute_reply": "2023-08-13T10:57:41.815230Z"
    },
    "papermill": {
     "duration": 0.027592,
     "end_time": "2023-08-13T10:57:41.818936",
     "exception": false,
     "start_time": "2023-08-13T10:57:41.791344",
     "status": "completed"
    },
    "tags": []
   },
   "outputs": [
    {
     "name": "stdout",
     "output_type": "stream",
     "text": [
      "(16512, 1)\n"
     ]
    }
   ],
   "source": [
    "# Repeat Process for y_train\n",
    "y_train_array = y_train.to_numpy()\n",
    "\n",
    "# Reshape Array\n",
    "y_train_reshaped = y_train_array.reshape(-1, 1)\n",
    "\n",
    "print(y_train_reshaped.shape)"
   ]
  },
  {
   "cell_type": "code",
   "execution_count": 22,
   "id": "b2df5c7b",
   "metadata": {
    "execution": {
     "iopub.execute_input": "2023-08-13T10:57:41.852915Z",
     "iopub.status.busy": "2023-08-13T10:57:41.852547Z",
     "iopub.status.idle": "2023-08-13T10:57:41.857695Z",
     "shell.execute_reply": "2023-08-13T10:57:41.856885Z"
    },
    "papermill": {
     "duration": 0.024783,
     "end_time": "2023-08-13T10:57:41.860037",
     "exception": false,
     "start_time": "2023-08-13T10:57:41.835254",
     "status": "completed"
    },
    "tags": []
   },
   "outputs": [
    {
     "name": "stdout",
     "output_type": "stream",
     "text": [
      "(4128, 1)\n"
     ]
    }
   ],
   "source": [
    "# Repeat Process for x_test\n",
    "x_test_array = x_test.to_numpy()\n",
    "\n",
    "# Reshape Array\n",
    "x_test_reshaped = x_test_array.reshape(-1, 1)\n",
    "\n",
    "print(x_test_reshaped.shape)"
   ]
  },
  {
   "cell_type": "code",
   "execution_count": 23,
   "id": "e77ced19",
   "metadata": {
    "execution": {
     "iopub.execute_input": "2023-08-13T10:57:41.894175Z",
     "iopub.status.busy": "2023-08-13T10:57:41.893780Z",
     "iopub.status.idle": "2023-08-13T10:57:41.899295Z",
     "shell.execute_reply": "2023-08-13T10:57:41.898179Z"
    },
    "papermill": {
     "duration": 0.025259,
     "end_time": "2023-08-13T10:57:41.901683",
     "exception": false,
     "start_time": "2023-08-13T10:57:41.876424",
     "status": "completed"
    },
    "tags": []
   },
   "outputs": [
    {
     "name": "stdout",
     "output_type": "stream",
     "text": [
      "(4128, 1)\n"
     ]
    }
   ],
   "source": [
    "# Repeat Process for y_test\n",
    "y_test_array = y_test.to_numpy()\n",
    "\n",
    "# Reshape Array\n",
    "y_test_reshaped = y_test_array.reshape(-1, 1)\n",
    "\n",
    "print(y_test_reshaped.shape)"
   ]
  },
  {
   "cell_type": "code",
   "execution_count": 24,
   "id": "ed98ca40",
   "metadata": {
    "execution": {
     "iopub.execute_input": "2023-08-13T10:57:41.937308Z",
     "iopub.status.busy": "2023-08-13T10:57:41.936908Z",
     "iopub.status.idle": "2023-08-13T10:57:41.965239Z",
     "shell.execute_reply": "2023-08-13T10:57:41.964093Z"
    },
    "papermill": {
     "duration": 0.049131,
     "end_time": "2023-08-13T10:57:41.967636",
     "exception": false,
     "start_time": "2023-08-13T10:57:41.918505",
     "status": "completed"
    },
    "tags": []
   },
   "outputs": [
    {
     "data": {
      "text/html": [
       "<style>#sk-container-id-1 {color: black;background-color: white;}#sk-container-id-1 pre{padding: 0;}#sk-container-id-1 div.sk-toggleable {background-color: white;}#sk-container-id-1 label.sk-toggleable__label {cursor: pointer;display: block;width: 100%;margin-bottom: 0;padding: 0.3em;box-sizing: border-box;text-align: center;}#sk-container-id-1 label.sk-toggleable__label-arrow:before {content: \"▸\";float: left;margin-right: 0.25em;color: #696969;}#sk-container-id-1 label.sk-toggleable__label-arrow:hover:before {color: black;}#sk-container-id-1 div.sk-estimator:hover label.sk-toggleable__label-arrow:before {color: black;}#sk-container-id-1 div.sk-toggleable__content {max-height: 0;max-width: 0;overflow: hidden;text-align: left;background-color: #f0f8ff;}#sk-container-id-1 div.sk-toggleable__content pre {margin: 0.2em;color: black;border-radius: 0.25em;background-color: #f0f8ff;}#sk-container-id-1 input.sk-toggleable__control:checked~div.sk-toggleable__content {max-height: 200px;max-width: 100%;overflow: auto;}#sk-container-id-1 input.sk-toggleable__control:checked~label.sk-toggleable__label-arrow:before {content: \"▾\";}#sk-container-id-1 div.sk-estimator input.sk-toggleable__control:checked~label.sk-toggleable__label {background-color: #d4ebff;}#sk-container-id-1 div.sk-label input.sk-toggleable__control:checked~label.sk-toggleable__label {background-color: #d4ebff;}#sk-container-id-1 input.sk-hidden--visually {border: 0;clip: rect(1px 1px 1px 1px);clip: rect(1px, 1px, 1px, 1px);height: 1px;margin: -1px;overflow: hidden;padding: 0;position: absolute;width: 1px;}#sk-container-id-1 div.sk-estimator {font-family: monospace;background-color: #f0f8ff;border: 1px dotted black;border-radius: 0.25em;box-sizing: border-box;margin-bottom: 0.5em;}#sk-container-id-1 div.sk-estimator:hover {background-color: #d4ebff;}#sk-container-id-1 div.sk-parallel-item::after {content: \"\";width: 100%;border-bottom: 1px solid gray;flex-grow: 1;}#sk-container-id-1 div.sk-label:hover label.sk-toggleable__label {background-color: #d4ebff;}#sk-container-id-1 div.sk-serial::before {content: \"\";position: absolute;border-left: 1px solid gray;box-sizing: border-box;top: 0;bottom: 0;left: 50%;z-index: 0;}#sk-container-id-1 div.sk-serial {display: flex;flex-direction: column;align-items: center;background-color: white;padding-right: 0.2em;padding-left: 0.2em;position: relative;}#sk-container-id-1 div.sk-item {position: relative;z-index: 1;}#sk-container-id-1 div.sk-parallel {display: flex;align-items: stretch;justify-content: center;background-color: white;position: relative;}#sk-container-id-1 div.sk-item::before, #sk-container-id-1 div.sk-parallel-item::before {content: \"\";position: absolute;border-left: 1px solid gray;box-sizing: border-box;top: 0;bottom: 0;left: 50%;z-index: -1;}#sk-container-id-1 div.sk-parallel-item {display: flex;flex-direction: column;z-index: 1;position: relative;background-color: white;}#sk-container-id-1 div.sk-parallel-item:first-child::after {align-self: flex-end;width: 50%;}#sk-container-id-1 div.sk-parallel-item:last-child::after {align-self: flex-start;width: 50%;}#sk-container-id-1 div.sk-parallel-item:only-child::after {width: 0;}#sk-container-id-1 div.sk-dashed-wrapped {border: 1px dashed gray;margin: 0 0.4em 0.5em 0.4em;box-sizing: border-box;padding-bottom: 0.4em;background-color: white;}#sk-container-id-1 div.sk-label label {font-family: monospace;font-weight: bold;display: inline-block;line-height: 1.2em;}#sk-container-id-1 div.sk-label-container {text-align: center;}#sk-container-id-1 div.sk-container {/* jupyter's `normalize.less` sets `[hidden] { display: none; }` but bootstrap.min.css set `[hidden] { display: none !important; }` so we also need the `!important` here to be able to override the default hidden behavior on the sphinx rendered scikit-learn.org. See: https://github.com/scikit-learn/scikit-learn/issues/21755 */display: inline-block !important;position: relative;}#sk-container-id-1 div.sk-text-repr-fallback {display: none;}</style><div id=\"sk-container-id-1\" class=\"sk-top-container\"><div class=\"sk-text-repr-fallback\"><pre>LinearRegression()</pre><b>In a Jupyter environment, please rerun this cell to show the HTML representation or trust the notebook. <br />On GitHub, the HTML representation is unable to render, please try loading this page with nbviewer.org.</b></div><div class=\"sk-container\" hidden><div class=\"sk-item\"><div class=\"sk-estimator sk-toggleable\"><input class=\"sk-toggleable__control sk-hidden--visually\" id=\"sk-estimator-id-1\" type=\"checkbox\" checked><label for=\"sk-estimator-id-1\" class=\"sk-toggleable__label sk-toggleable__label-arrow\">LinearRegression</label><div class=\"sk-toggleable__content\"><pre>LinearRegression()</pre></div></div></div></div></div>"
      ],
      "text/plain": [
       "LinearRegression()"
      ]
     },
     "execution_count": 24,
     "metadata": {},
     "output_type": "execute_result"
    }
   ],
   "source": [
    "# Intialize and Fit Linear Regression Model\n",
    "linearModel = LinearRegression()\n",
    "linearModel.fit(x_train_reshaped, y_train_reshaped)"
   ]
  },
  {
   "cell_type": "code",
   "execution_count": 25,
   "id": "c9fdfad4",
   "metadata": {
    "execution": {
     "iopub.execute_input": "2023-08-13T10:57:42.003889Z",
     "iopub.status.busy": "2023-08-13T10:57:42.003096Z",
     "iopub.status.idle": "2023-08-13T10:57:42.010177Z",
     "shell.execute_reply": "2023-08-13T10:57:42.008997Z"
    },
    "papermill": {
     "duration": 0.027603,
     "end_time": "2023-08-13T10:57:42.012610",
     "exception": false,
     "start_time": "2023-08-13T10:57:41.985007",
     "status": "completed"
    },
    "tags": []
   },
   "outputs": [
    {
     "name": "stdout",
     "output_type": "stream",
     "text": [
      "[[2749.57115283]\n",
      " [2390.74695906]\n",
      " [2529.01183714]\n",
      " ...\n",
      " [2960.16312979]\n",
      " [3380.07177551]\n",
      " [2292.09586306]]\n"
     ]
    }
   ],
   "source": [
    "y_predict = linearModel.predict(x_test_reshaped)\n",
    "\n",
    "print(y_predict)"
   ]
  },
  {
   "cell_type": "code",
   "execution_count": 26,
   "id": "cb28a110",
   "metadata": {
    "execution": {
     "iopub.execute_input": "2023-08-13T10:57:42.048357Z",
     "iopub.status.busy": "2023-08-13T10:57:42.047950Z",
     "iopub.status.idle": "2023-08-13T10:57:42.060270Z",
     "shell.execute_reply": "2023-08-13T10:57:42.059205Z"
    },
    "papermill": {
     "duration": 0.033184,
     "end_time": "2023-08-13T10:57:42.062869",
     "exception": false,
     "start_time": "2023-08-13T10:57:42.029685",
     "status": "completed"
    },
    "tags": []
   },
   "outputs": [
    {
     "data": {
      "text/html": [
       "<div>\n",
       "<style scoped>\n",
       "    .dataframe tbody tr th:only-of-type {\n",
       "        vertical-align: middle;\n",
       "    }\n",
       "\n",
       "    .dataframe tbody tr th {\n",
       "        vertical-align: top;\n",
       "    }\n",
       "\n",
       "    .dataframe thead th {\n",
       "        text-align: right;\n",
       "    }\n",
       "</style>\n",
       "<table border=\"1\" class=\"dataframe\">\n",
       "  <thead>\n",
       "    <tr style=\"text-align: right;\">\n",
       "      <th></th>\n",
       "      <th>0</th>\n",
       "    </tr>\n",
       "  </thead>\n",
       "  <tbody>\n",
       "    <tr>\n",
       "      <th>0</th>\n",
       "      <td>2750.0</td>\n",
       "    </tr>\n",
       "    <tr>\n",
       "      <th>1</th>\n",
       "      <td>2391.0</td>\n",
       "    </tr>\n",
       "    <tr>\n",
       "      <th>2</th>\n",
       "      <td>2529.0</td>\n",
       "    </tr>\n",
       "    <tr>\n",
       "      <th>3</th>\n",
       "      <td>2483.0</td>\n",
       "    </tr>\n",
       "    <tr>\n",
       "      <th>4</th>\n",
       "      <td>2595.0</td>\n",
       "    </tr>\n",
       "    <tr>\n",
       "      <th>...</th>\n",
       "      <td>...</td>\n",
       "    </tr>\n",
       "    <tr>\n",
       "      <th>4123</th>\n",
       "      <td>2624.0</td>\n",
       "    </tr>\n",
       "    <tr>\n",
       "      <th>4124</th>\n",
       "      <td>2372.0</td>\n",
       "    </tr>\n",
       "    <tr>\n",
       "      <th>4125</th>\n",
       "      <td>2960.0</td>\n",
       "    </tr>\n",
       "    <tr>\n",
       "      <th>4126</th>\n",
       "      <td>3380.0</td>\n",
       "    </tr>\n",
       "    <tr>\n",
       "      <th>4127</th>\n",
       "      <td>2292.0</td>\n",
       "    </tr>\n",
       "  </tbody>\n",
       "</table>\n",
       "<p>4128 rows × 1 columns</p>\n",
       "</div>"
      ],
      "text/plain": [
       "           0\n",
       "0     2750.0\n",
       "1     2391.0\n",
       "2     2529.0\n",
       "3     2483.0\n",
       "4     2595.0\n",
       "...      ...\n",
       "4123  2624.0\n",
       "4124  2372.0\n",
       "4125  2960.0\n",
       "4126  3380.0\n",
       "4127  2292.0\n",
       "\n",
       "[4128 rows x 1 columns]"
      ]
     },
     "execution_count": 26,
     "metadata": {},
     "output_type": "execute_result"
    }
   ],
   "source": [
    "# Make a Data Frame for Predicted Values (for further analysis or comparison with the actual target values)\n",
    "\n",
    "# Round Floating Values\n",
    "rounded_predict_array = np.round(y_predict)\n",
    "\n",
    "y_predict_df = pd.DataFrame(rounded_predict_array)\n",
    "y_predict_df"
   ]
  },
  {
   "cell_type": "code",
   "execution_count": 27,
   "id": "7ce3018d",
   "metadata": {
    "execution": {
     "iopub.execute_input": "2023-08-13T10:57:42.099898Z",
     "iopub.status.busy": "2023-08-13T10:57:42.099534Z",
     "iopub.status.idle": "2023-08-13T10:57:42.104661Z",
     "shell.execute_reply": "2023-08-13T10:57:42.103594Z"
    },
    "papermill": {
     "duration": 0.026725,
     "end_time": "2023-08-13T10:57:42.107377",
     "exception": false,
     "start_time": "2023-08-13T10:57:42.080652",
     "status": "completed"
    },
    "tags": []
   },
   "outputs": [
    {
     "name": "stdout",
     "output_type": "stream",
     "text": [
      "[[3245]\n",
      " [1902]\n",
      " [1729]\n",
      " ...\n",
      " [2071]\n",
      " [4709]\n",
      " [2283]]\n"
     ]
    }
   ],
   "source": [
    "print(y_test_reshaped)"
   ]
  },
  {
   "cell_type": "markdown",
   "id": "91ed98e3",
   "metadata": {
    "papermill": {
     "duration": 0.017406,
     "end_time": "2023-08-13T10:57:42.141871",
     "exception": false,
     "start_time": "2023-08-13T10:57:42.124465",
     "status": "completed"
    },
    "tags": []
   },
   "source": [
    "The index marker is not the same for the predicted vs the test but the order is the same. Therefore, must compare numbers from first to last throughout the array."
   ]
  },
  {
   "cell_type": "code",
   "execution_count": 28,
   "id": "4626f093",
   "metadata": {
    "execution": {
     "iopub.execute_input": "2023-08-13T10:57:42.179646Z",
     "iopub.status.busy": "2023-08-13T10:57:42.179264Z",
     "iopub.status.idle": "2023-08-13T10:57:42.486598Z",
     "shell.execute_reply": "2023-08-13T10:57:42.485392Z"
    },
    "papermill": {
     "duration": 0.329735,
     "end_time": "2023-08-13T10:57:42.489364",
     "exception": false,
     "start_time": "2023-08-13T10:57:42.159629",
     "status": "completed"
    },
    "tags": []
   },
   "outputs": [
    {
     "data": {
      "text/plain": [
       "[<matplotlib.lines.Line2D at 0x7c2862c5b520>]"
      ]
     },
     "execution_count": 28,
     "metadata": {},
     "output_type": "execute_result"
    },
    {
     "data": {
      "image/png": "[encoded data removed]",
      "text/plain": [
       "<Figure size 640x480 with 1 Axes>"
      ]
     },
     "metadata": {},
     "output_type": "display_data"
    }
   ],
   "source": [
    "plt.scatter(x_test_reshaped, y_test_reshaped, color='blue')\n",
    "plt.plot(x_test_reshaped, y_predict, marker='x', color='green')"
   ]
  },
  {
   "cell_type": "code",
   "execution_count": 29,
   "id": "c57f4454",
   "metadata": {
    "execution": {
     "iopub.execute_input": "2023-08-13T10:57:42.527881Z",
     "iopub.status.busy": "2023-08-13T10:57:42.527498Z",
     "iopub.status.idle": "2023-08-13T10:57:42.542584Z",
     "shell.execute_reply": "2023-08-13T10:57:42.541638Z"
    },
    "papermill": {
     "duration": 0.036799,
     "end_time": "2023-08-13T10:57:42.544598",
     "exception": false,
     "start_time": "2023-08-13T10:57:42.507799",
     "status": "completed"
    },
    "tags": []
   },
   "outputs": [
    {
     "name": "stdout",
     "output_type": "stream",
     "text": [
      "Accuracy Percentage: 52.01%\n"
     ]
    }
   ],
   "source": [
    "# Calculate the number of correct predictions\n",
    "\n",
    "# Convert predicted values to integers if needed (e.g., if they are probabilities)\n",
    "y_predict_int = y_predict.astype(int)\n",
    "\n",
    "# Calculate the number of correct predictions within the range of ±1000 units\n",
    "correct_predictions = sum((y_predict_int >= y_test_reshaped - 1000) & (y_predict_int <= y_test_reshaped + 1000))\n",
    "\n",
    "# Calculate the total number of predictions\n",
    "total_predictions = len(y_test_reshaped)\n",
    "\n",
    "# Calculate the accuracy percentage\n",
    "accuracy_percentage = (correct_predictions / total_predictions) * 100\n",
    "\n",
    "print(f\"Accuracy Percentage: {accuracy_percentage.item():.2f}%\")"
   ]
  },
  {
   "cell_type": "code",
   "execution_count": 30,
   "id": "efba3f7e",
   "metadata": {
    "execution": {
     "iopub.execute_input": "2023-08-13T10:57:42.584195Z",
     "iopub.status.busy": "2023-08-13T10:57:42.583462Z",
     "iopub.status.idle": "2023-08-13T10:57:42.590920Z",
     "shell.execute_reply": "2023-08-13T10:57:42.590186Z"
    },
    "papermill": {
     "duration": 0.029437,
     "end_time": "2023-08-13T10:57:42.593105",
     "exception": false,
     "start_time": "2023-08-13T10:57:42.563668",
     "status": "completed"
    },
    "tags": []
   },
   "outputs": [],
   "source": [
    "# Create a Function \n",
    "def linearRegression (x, y):\n",
    "    # Split Train and Test Data by 75-25\n",
    "    x_train, x_test, y_train, y_test =  train_test_split(x,y,test_size=.2)\n",
    "    \n",
    "    x_train_arr = x_train.to_numpy().reshape(-1,1)\n",
    "    \n",
    "    y_train_arr = y_train.to_numpy().reshape(-1,1)\n",
    "    \n",
    "    x_test_arr = x_test.to_numpy().reshape(-1,1)\n",
    "    \n",
    "    y_test_arr = y_test.to_numpy().reshape(-1,1)\n",
    "    \n",
    "    linearModel = LinearRegression()\n",
    "    \n",
    "    linearModel.fit(x_train_arr, y_train_arr)\n",
    "    \n",
    "    y_predict = linearModel.predict(x_test_arr)\n",
    "    \n",
    "    plt.scatter(x_test_arr, y_test_arr, color='blue')\n",
    "    plt.plot(x_test_arr, y_predict, marker='x', color='green')\n",
    "                                             "
   ]
  },
  {
   "cell_type": "code",
   "execution_count": 31,
   "id": "bf574c96",
   "metadata": {
    "execution": {
     "iopub.execute_input": "2023-08-13T10:57:42.634333Z",
     "iopub.status.busy": "2023-08-13T10:57:42.633588Z",
     "iopub.status.idle": "2023-08-13T10:57:42.925332Z",
     "shell.execute_reply": "2023-08-13T10:57:42.924226Z"
    },
    "papermill": {
     "duration": 0.316263,
     "end_time": "2023-08-13T10:57:42.927905",
     "exception": false,
     "start_time": "2023-08-13T10:57:42.611642",
     "status": "completed"
    },
    "tags": []
   },
   "outputs": [
    {
     "data": {
      "image/png": "[encoded data removed]",
      "text/plain": [
       "<Figure size 640x480 with 1 Axes>"
      ]
     },
     "metadata": {},
     "output_type": "display_data"
    }
   ],
   "source": [
    "linearRegression(x,y)"
   ]
  },
  {
   "cell_type": "code",
   "execution_count": 32,
   "id": "1cfd6eb0",
   "metadata": {
    "execution": {
     "iopub.execute_input": "2023-08-13T10:57:42.968552Z",
     "iopub.status.busy": "2023-08-13T10:57:42.968156Z",
     "iopub.status.idle": "2023-08-13T10:57:43.414574Z",
     "shell.execute_reply": "2023-08-13T10:57:43.413438Z"
    },
    "papermill": {
     "duration": 0.46894,
     "end_time": "2023-08-13T10:57:43.416782",
     "exception": false,
     "start_time": "2023-08-13T10:57:42.947842",
     "status": "completed"
    },
    "tags": []
   },
   "outputs": [
    {
     "data": {
      "image/png": "[encoded data removed]",
      "text/plain": [
       "<Figure size 640x480 with 1 Axes>"
      ]
     },
     "metadata": {},
     "output_type": "display_data"
    }
   ],
   "source": [
    "# Go Through All Factors Involved (With numerical X Values)\n",
    "for i in columns:\n",
    "    x = df['median_house_value']\n",
    "    y = df[i]\n",
    "    \n",
    "    linearRegression(x,y)\n"
   ]
  },
  {
   "cell_type": "code",
   "execution_count": null,
   "id": "3fd92aa0",
   "metadata": {
    "papermill": {
     "duration": 0.018857,
     "end_time": "2023-08-13T10:57:43.455057",
     "exception": false,
     "start_time": "2023-08-13T10:57:43.436200",
     "status": "completed"
    },
    "tags": []
   },
   "outputs": [],
   "source": []
  }
 ],
 "metadata": {
  "kernelspec": {
   "display_name": "Python 3",
   "language": "python",
   "name": "python3"
  },
  "language_info": {
   "codemirror_mode": {
    "name": "ipython",
    "version": 3
   },
   "file_extension": ".py",
   "mimetype": "text/x-python",
   "name": "python",
   "nbconvert_exporter": "python",
   "pygments_lexer": "ipython3",
   "version": "3.10.12"
  },
  "papermill": {
   "default_parameters": {},
   "duration": 21.638716,
   "end_time": "2023-08-13T10:57:44.498303",
   "environment_variables": {},
   "exception": null,
   "input_path": "__notebook__.ipynb",
   "output_path": "__notebook__.ipynb",
   "parameters": {},
   "start_time": "2023-08-13T10:57:22.859587",
   "version": "2.4.0"
  }
 },
 "nbformat": 4,
 "nbformat_minor": 5
}
